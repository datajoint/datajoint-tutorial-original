{
 "cells": [
  {
   "cell_type": "code",
   "execution_count": 1,
   "metadata": {
    "collapsed": true
   },
   "outputs": [],
   "source": [
    "import datajoint as dj"
   ]
  },
  {
   "cell_type": "code",
   "execution_count": 2,
   "metadata": {
    "collapsed": true
   },
   "outputs": [],
   "source": [
    "dj.config['database.host'] = 'tutorial-db.datajoint.io'\n",
    "dj.config['database.user'] = 'chris'"
   ]
  },
  {
   "cell_type": "code",
   "execution_count": 3,
   "metadata": {},
   "outputs": [
    {
     "name": "stdout",
     "output_type": "stream",
     "text": [
      "Please enter DataJoint password: ········\n",
      "Connecting chris@tutorial-db.datajoint.io:3306\n"
     ]
    }
   ],
   "source": [
    "schema = dj.schema('tutorial', locals())"
   ]
  },
  {
   "cell_type": "code",
   "execution_count": 4,
   "metadata": {},
   "outputs": [],
   "source": [
    "@schema\n",
    "class Mouse(dj.Manual):\n",
    "      definition = \"\"\"\n",
    "      mouse_id: int               # unique mouse id\n",
    "      ---\n",
    "      dob: date                   # mouse date of birth\n",
    "      sex: enum('M', 'F', 'U')    # sex of mouse - Male, Female, or Unknown/Unclassified\n",
    "      \"\"\""
   ]
  },
  {
   "cell_type": "code",
   "execution_count": 5,
   "metadata": {},
   "outputs": [],
   "source": [
    "mouse = Mouse()"
   ]
  },
  {
   "cell_type": "code",
   "execution_count": 6,
   "metadata": {
    "collapsed": true
   },
   "outputs": [],
   "source": [
    "mouse.insert1( (0, '2017-03-01', 'M') )"
   ]
  },
  {
   "cell_type": "code",
   "execution_count": 7,
   "metadata": {
    "collapsed": true
   },
   "outputs": [],
   "source": [
    "data = {\n",
    "  'mouse_id': 100,\n",
    "  'dob': '2017-05-12',\n",
    "  'sex': 'F'\n",
    "}"
   ]
  },
  {
   "cell_type": "code",
   "execution_count": 8,
   "metadata": {
    "collapsed": true
   },
   "outputs": [],
   "source": [
    "mouse.insert1(data)"
   ]
  },
  {
   "cell_type": "code",
   "execution_count": 9,
   "metadata": {
    "collapsed": true
   },
   "outputs": [],
   "source": [
    "data = [\n",
    "  (1, '2016-11-19', 'M'),\n",
    "  (2, '2016-11-20', 'U'),\n",
    "  (5, '2016-12-25', 'F')\n",
    "]\n",
    "\n",
    "# now insert all at once\n",
    "mouse.insert(data)"
   ]
  },
  {
   "cell_type": "code",
   "execution_count": 10,
   "metadata": {
    "collapsed": true
   },
   "outputs": [],
   "source": [
    "data = [\n",
    "  {'mouse_id': 10, 'dob': '2017-01-01', 'sex': 'F'},\n",
    "  {'mouse_id': 11, 'dob': '2017-01-03', 'sex': 'F'},\n",
    "]\n",
    "\n",
    "# insert them all\n",
    "mouse.insert(data)"
   ]
  },
  {
   "cell_type": "code",
   "execution_count": 11,
   "metadata": {
    "collapsed": true
   },
   "outputs": [],
   "source": [
    " @schema\n",
    " class Session(dj.Manual):\n",
    "     definition = \"\"\"\n",
    "     # experiment session\n",
    "     -> Mouse\n",
    "     session_date: date            # session date\n",
    "     ---\n",
    "     experiment_setup: int         # experiment setup ID\n",
    "     experimenter: varchar(128)    # name of the experimenter\n",
    "     \"\"\""
   ]
  },
  {
   "cell_type": "code",
   "execution_count": 12,
   "metadata": {
    "collapsed": true
   },
   "outputs": [],
   "source": [
    "session = Session()"
   ]
  },
  {
   "cell_type": "code",
   "execution_count": 13,
   "metadata": {
    "collapsed": true
   },
   "outputs": [],
   "source": [
    "data = {\n",
    "      'mouse_id': 0,\n",
    "      'session_date': '2017-05-15',\n",
    "      'experiment_setup': 0,\n",
    "      'experimenter': 'Edgar Y. Walker'\n",
    "    }\n",
    "session.insert1(data)"
   ]
  },
  {
   "cell_type": "code",
   "execution_count": 14,
   "metadata": {},
   "outputs": [],
   "source": [
    "session.insert([\n",
    "    {'mouse_id': 0, \n",
    "     'session_date': '2017-05-19',\n",
    "     'experiment_setup': 0, \n",
    "     'experimenter': 'Edgar Y. Walker'},\n",
    "    {'mouse_id': 100,\n",
    "     'session_date': '2017-05-25',\n",
    "     'experiment_setup': 1,\n",
    "     'experimenter': 'Fabian Sinz'\n",
    "    },\n",
    "    {'mouse_id': 5,\n",
    "     'session_date': '2017-01-05',\n",
    "     'experiment_setup': 1,\n",
    "     'experimenter': 'Jake Reimer'\n",
    "    },\n",
    "])"
   ]
  },
  {
   "cell_type": "code",
   "execution_count": 15,
   "metadata": {
    "collapsed": true
   },
   "outputs": [],
   "source": [
    "import numpy as np"
   ]
  },
  {
   "cell_type": "code",
   "execution_count": 16,
   "metadata": {
    "collapsed": true
   },
   "outputs": [],
   "source": [
    "@schema\n",
    "class Neuron(dj.Imported):\n",
    "    definition = \"\"\"\n",
    "    -> Session\n",
    "    ---\n",
    "    activity:  longblob    # electric activity of the neuron\n",
    "    \"\"\"\n",
    "\n",
    "    def _make_tuples(self, key):\n",
    "        # use key dictionary to determine the data file path\n",
    "        data_file = \"./data/data_{mouse_id}_{session_date}.npy\".format(**key)\n",
    "\n",
    "        # load the data\n",
    "        data = np.load(data_file)\n",
    "\n",
    "        # add the loaded data as the \"activity\" column\n",
    "        key['activity'] = data\n",
    "\n",
    "        # insert the key into self\n",
    "        self.insert1(key)\n",
    "\n",
    "        print('Populated a neuron for {mouse_id} on {session_date}'.format(**key))\n"
   ]
  },
  {
   "cell_type": "code",
   "execution_count": 17,
   "metadata": {
    "collapsed": true
   },
   "outputs": [],
   "source": [
    "neuron = Neuron()"
   ]
  },
  {
   "cell_type": "code",
   "execution_count": 18,
   "metadata": {},
   "outputs": [
    {
     "name": "stdout",
     "output_type": "stream",
     "text": [
      "Populated a neuron for 0 on 2017-05-15\n",
      "Populated a neuron for 0 on 2017-05-19\n",
      "Populated a neuron for 5 on 2017-01-05\n",
      "Populated a neuron for 100 on 2017-05-25\n"
     ]
    }
   ],
   "source": [
    "neuron.populate()"
   ]
  },
  {
   "cell_type": "code",
   "execution_count": 19,
   "metadata": {
    "collapsed": true
   },
   "outputs": [],
   "source": [
    "@schema\n",
    "class ActivityStatistics(dj.Computed):\n",
    "    definition = \"\"\"\n",
    "    -> Neuron\n",
    "    ---\n",
    "    mean: float    # mean activity\n",
    "    stdev: float   # standard deviation of activity\n",
    "    max: float     # maximum activity\n",
    "    \"\"\"\n",
    "\n",
    "    def _make_tuples(self, key):\n",
    "        activity = (Neuron() & key).fetch1('activity')    # fetch activity as NumPy array\n",
    "\n",
    "        # compute various statistics on activity\n",
    "        key['mean'] = activity.mean()   # compute mean\n",
    "        key['stdev'] = activity.std()   # compute standard deviation\n",
    "        key['max'] = activity.max()     # compute max\n",
    "        self.insert1(key)\n",
    "        print('Computed statistics for mouse_id {mouse_id} session_date {session_date}'.format(**key))\n"
   ]
  },
  {
   "cell_type": "code",
   "execution_count": 20,
   "metadata": {
    "collapsed": true
   },
   "outputs": [],
   "source": [
    "stats = ActivityStatistics()"
   ]
  },
  {
   "cell_type": "code",
   "execution_count": 21,
   "metadata": {
    "collapsed": true
   },
   "outputs": [],
   "source": [
    "@schema\n",
    "class SpikeDetectionParam(dj.Lookup):\n",
    "    definition = \"\"\"\n",
    "    sdp_id: int      # unique id for spike detection parameter set\n",
    "    ---\n",
    "    threshold: float   # threshold for spike detection\n",
    "    \"\"\"\n"
   ]
  },
  {
   "cell_type": "code",
   "execution_count": 22,
   "metadata": {
    "collapsed": true
   },
   "outputs": [],
   "source": [
    "@schema\n",
    "class Spikes(dj.Computed):\n",
    "    definition = \"\"\"\n",
    "    -> Neuron\n",
    "    -> SpikeDetectionParam\n",
    "    ---\n",
    "    spikes: longblob     # detected spikes\n",
    "    count: int           # total number of detected spikes\n",
    "    \"\"\"\n",
    "\n",
    "    def _make_tuples(self, key):\n",
    "        print('Populating for: ', key)\n",
    "\n",
    "        activity = (Neuron() & key).fetch1('activity')\n",
    "        threshold = (SpikeDetectionParam() & key).fetch1('threshold')\n",
    "\n",
    "        above_thrs = (activity > threshold).astype(np.int)   # find activity above threshold\n",
    "        rising = (np.diff(above_thrs) > 0).astype(np.int)   # find rising edge of crossing threshold\n",
    "        spikes = np.hstack((0, rising))    # prepend 0 to account for shortening due to np.diff\n",
    "        count = spikes.sum()   # compute total spike counts\n",
    "        print('Detected {} spikes!\\n'.format(count))\n",
    "\n",
    "        # save results and insert\n",
    "        key['spikes'] = spikes\n",
    "        key['count'] = count\n",
    "        self.insert1(key)\n"
   ]
  },
  {
   "cell_type": "code",
   "execution_count": 23,
   "metadata": {
    "collapsed": true
   },
   "outputs": [],
   "source": [
    "sdp = SpikeDetectionParam()"
   ]
  },
  {
   "cell_type": "code",
   "execution_count": 24,
   "metadata": {
    "collapsed": true
   },
   "outputs": [],
   "source": [
    "sdp.insert1({'sdp_id': 0, 'threshold': 0.9})"
   ]
  },
  {
   "cell_type": "code",
   "execution_count": 25,
   "metadata": {},
   "outputs": [],
   "source": [
    "spikes = Spikes()"
   ]
  },
  {
   "cell_type": "code",
   "execution_count": 26,
   "metadata": {},
   "outputs": [
    {
     "name": "stdout",
     "output_type": "stream",
     "text": [
      "Populating for:  {'mouse_id': 0, 'session_date': datetime.date(2017, 5, 15), 'sdp_id': 0}\n",
      "Detected 27 spikes!\n",
      "\n",
      "Populating for:  {'mouse_id': 0, 'session_date': datetime.date(2017, 5, 19), 'sdp_id': 0}\n",
      "Detected 21 spikes!\n",
      "\n",
      "Populating for:  {'mouse_id': 5, 'session_date': datetime.date(2017, 1, 5), 'sdp_id': 0}\n",
      "Detected 14 spikes!\n",
      "\n",
      "Populating for:  {'mouse_id': 100, 'session_date': datetime.date(2017, 5, 25), 'sdp_id': 0}\n",
      "Detected 35 spikes!\n",
      "\n"
     ]
    }
   ],
   "source": [
    "spikes.populate()"
   ]
  },
  {
   "cell_type": "code",
   "execution_count": 27,
   "metadata": {
    "collapsed": true
   },
   "outputs": [],
   "source": [
    "sdp.insert1({'sdp_id': 1, 'threshold': 0.1})"
   ]
  },
  {
   "cell_type": "code",
   "execution_count": 28,
   "metadata": {},
   "outputs": [
    {
     "name": "stdout",
     "output_type": "stream",
     "text": [
      "Populating for:  {'mouse_id': 0, 'session_date': datetime.date(2017, 5, 15), 'sdp_id': 1}\n",
      "Detected 128 spikes!\n",
      "\n",
      "Populating for:  {'mouse_id': 0, 'session_date': datetime.date(2017, 5, 19), 'sdp_id': 1}\n",
      "Detected 135 spikes!\n",
      "\n",
      "Populating for:  {'mouse_id': 5, 'session_date': datetime.date(2017, 1, 5), 'sdp_id': 1}\n",
      "Detected 132 spikes!\n",
      "\n",
      "Populating for:  {'mouse_id': 100, 'session_date': datetime.date(2017, 5, 25), 'sdp_id': 1}\n",
      "Detected 142 spikes!\n",
      "\n"
     ]
    }
   ],
   "source": [
    "spikes.populate()"
   ]
  },
  {
   "cell_type": "code",
   "execution_count": 29,
   "metadata": {
    "collapsed": true
   },
   "outputs": [],
   "source": [
    "sdp.insert1({'sdp_id': 2, 'threshold': 1.3})"
   ]
  },
  {
   "cell_type": "code",
   "execution_count": 30,
   "metadata": {},
   "outputs": [
    {
     "name": "stdout",
     "output_type": "stream",
     "text": [
      "Populating for:  {'mouse_id': 0, 'session_date': datetime.date(2017, 5, 15), 'sdp_id': 2}\n",
      "Detected 13 spikes!\n",
      "\n",
      "Populating for:  {'mouse_id': 0, 'session_date': datetime.date(2017, 5, 19), 'sdp_id': 2}\n",
      "Detected 5 spikes!\n",
      "\n",
      "Populating for:  {'mouse_id': 5, 'session_date': datetime.date(2017, 1, 5), 'sdp_id': 2}\n",
      "Detected 1 spikes!\n",
      "\n",
      "Populating for:  {'mouse_id': 100, 'session_date': datetime.date(2017, 5, 25), 'sdp_id': 2}\n",
      "Detected 9 spikes!\n",
      "\n"
     ]
    }
   ],
   "source": [
    "spikes.populate()"
   ]
  },
  {
   "cell_type": "code",
   "execution_count": 31,
   "metadata": {},
   "outputs": [
    {
     "data": {
      "image/svg+xml": [
       "<svg height=\"247pt\" viewBox=\"0.00 0.00 225.36 247.00\" width=\"225pt\" xmlns=\"http://www.w3.org/2000/svg\" xmlns:xlink=\"http://www.w3.org/1999/xlink\">\n",
       "<g class=\"graph\" id=\"graph0\" transform=\"scale(1 1) rotate(0) translate(4 243)\">\n",
       "<polygon fill=\"#ffffff\" points=\"-4,4 -4,-243 221.3647,-243 221.3647,4 -4,4\" stroke=\"transparent\"/>\n",
       "<!-- Neuron -->\n",
       "<g class=\"node\" id=\"node1\">\n",
       "<title>Neuron</title>\n",
       "<ellipse cx=\"166.3569\" cy=\"-79.5\" fill=\"#00007f\" fill-opacity=\"0.250980\" rx=\"35.2572\" ry=\"17.5\" stroke=\"#00007f\" stroke-opacity=\"0.250980\"/>\n",
       "<text fill=\"#00007f\" font-family=\"arial\" font-size=\"12.00\" text-anchor=\"middle\" x=\"166.3569\" y=\"-76.7994\">Neuron</text>\n",
       "</g>\n",
       "<!-- ActivityStatistics -->\n",
       "<g class=\"node\" id=\"node4\">\n",
       "<title>ActivityStatistics</title>\n",
       "<ellipse cx=\"166.3569\" cy=\"-13\" fill=\"#ff0000\" fill-opacity=\"0.125490\" rx=\"13.002\" ry=\"13\" stroke=\"#ff0000\" stroke-opacity=\"0.125490\"/>\n",
       "<text fill=\"#7f0000\" font-family=\"arial\" font-size=\"12.00\" text-anchor=\"middle\" x=\"166.3569\" y=\"-10.2994\">ActivityStatistics</text>\n",
       "</g>\n",
       "<!-- Neuron&#45;&gt;ActivityStatistics -->\n",
       "<g class=\"edge\" id=\"edge1\">\n",
       "<title>Neuron-&gt;ActivityStatistics</title>\n",
       "<path d=\"M166.3569,-61.6792C166.3569,-50.4451 166.3569,-36.1917 166.3569,-26.0168\" fill=\"none\" stroke=\"#000000\" stroke-opacity=\"0.250980\" stroke-width=\"2\"/>\n",
       "</g>\n",
       "<!-- Spikes -->\n",
       "<g class=\"node\" id=\"node6\">\n",
       "<title>Spikes</title>\n",
       "<ellipse cx=\"64.3569\" cy=\"-13\" fill=\"#ff0000\" fill-opacity=\"0.125490\" rx=\"13.0044\" ry=\"13\" stroke=\"#ff0000\" stroke-opacity=\"0.125490\"/>\n",
       "<text fill=\"#7f0000\" font-family=\"arial\" font-size=\"12.00\" text-anchor=\"middle\" x=\"64.3569\" y=\"-10.2994\">Spikes</text>\n",
       "</g>\n",
       "<!-- Neuron&#45;&gt;Spikes -->\n",
       "<g class=\"edge\" id=\"edge2\">\n",
       "<title>Neuron-&gt;Spikes</title>\n",
       "<path d=\"M144.7254,-65.3971C123.4391,-51.5192 91.7984,-30.8908 75.2848,-20.1246\" fill=\"none\" stroke=\"#000000\" stroke-opacity=\"0.250980\" stroke-width=\".75\"/>\n",
       "</g>\n",
       "<!-- Session -->\n",
       "<g class=\"node\" id=\"node2\">\n",
       "<title>Session</title>\n",
       "<polygon fill=\"#00ff00\" fill-opacity=\"0.188235\" points=\"195.5491,-168 137.1647,-168 137.1647,-133 195.5491,-133 195.5491,-168\" stroke=\"#00ff00\" stroke-opacity=\"0.188235\"/>\n",
       "<text fill=\"#006400\" font-family=\"arial\" font-size=\"12.00\" text-anchor=\"middle\" x=\"166.3569\" y=\"-147.7994\">Session</text>\n",
       "</g>\n",
       "<!-- Session&#45;&gt;Neuron -->\n",
       "<g class=\"edge\" id=\"edge3\">\n",
       "<title>Session-&gt;Neuron</title>\n",
       "<path d=\"M166.3569,-132.9494C166.3569,-122.1083 166.3569,-108.2366 166.3569,-97.3418\" fill=\"none\" stroke=\"#000000\" stroke-opacity=\"0.250980\" stroke-width=\"2\"/>\n",
       "</g>\n",
       "<!-- SpikeDetectionParam -->\n",
       "<g class=\"node\" id=\"node3\">\n",
       "<title>SpikeDetectionParam</title>\n",
       "<polygon fill=\"#000000\" fill-opacity=\"0.125490\" points=\"112.5712,-97 .1427,-97 .1427,-62 112.5712,-62 112.5712,-97\" stroke=\"transparent\"/>\n",
       "<text fill=\"#000000\" font-family=\"arial\" font-size=\"10.00\" text-anchor=\"middle\" x=\"56.3569\" y=\"-77.2495\">SpikeDetectionParam</text>\n",
       "</g>\n",
       "<!-- SpikeDetectionParam&#45;&gt;Spikes -->\n",
       "<g class=\"edge\" id=\"edge4\">\n",
       "<title>SpikeDetectionParam-&gt;Spikes</title>\n",
       "<path d=\"M58.5008,-61.6792C59.8523,-50.4451 61.567,-36.1917 62.791,-26.0168\" fill=\"none\" stroke=\"#000000\" stroke-opacity=\"0.250980\" stroke-width=\".75\"/>\n",
       "</g>\n",
       "<!-- Mouse -->\n",
       "<g class=\"node\" id=\"node5\">\n",
       "<title>Mouse</title>\n",
       "<polygon fill=\"#00ff00\" fill-opacity=\"0.188235\" points=\"192.3745,-239 140.3394,-239 140.3394,-204 192.3745,-204 192.3745,-239\" stroke=\"#00ff00\" stroke-opacity=\"0.188235\"/>\n",
       "<text fill=\"#006400\" font-family=\"arial\" font-size=\"12.00\" text-anchor=\"middle\" x=\"166.3569\" y=\"-218.7994\">Mouse</text>\n",
       "</g>\n",
       "<!-- Mouse&#45;&gt;Session -->\n",
       "<g class=\"edge\" id=\"edge5\">\n",
       "<title>Mouse-&gt;Session</title>\n",
       "<path d=\"M166.3569,-203.9494C166.3569,-193.1083 166.3569,-179.2366 166.3569,-168.3418\" fill=\"none\" stroke=\"#000000\" stroke-opacity=\"0.250980\" stroke-width=\".75\"/>\n",
       "</g>\n",
       "</g>\n",
       "</svg>"
      ],
      "text/plain": [
       "<datajoint.erd.ERD at 0x10a1ee9b0>"
      ]
     },
     "execution_count": 31,
     "metadata": {},
     "output_type": "execute_result"
    }
   ],
   "source": [
    "dj.ERD(schema)"
   ]
  },
  {
   "cell_type": "code",
   "execution_count": null,
   "metadata": {
    "collapsed": true
   },
   "outputs": [],
   "source": []
  }
 ],
 "metadata": {
  "kernelspec": {
   "display_name": "Python 3",
   "language": "python",
   "name": "python3"
  },
  "language_info": {
   "codemirror_mode": {
    "name": "ipython",
    "version": 3
   },
   "file_extension": ".py",
   "mimetype": "text/x-python",
   "name": "python",
   "nbconvert_exporter": "python",
   "pygments_lexer": "ipython3",
   "version": "3.6.2"
  }
 },
 "nbformat": 4,
 "nbformat_minor": 2
}
